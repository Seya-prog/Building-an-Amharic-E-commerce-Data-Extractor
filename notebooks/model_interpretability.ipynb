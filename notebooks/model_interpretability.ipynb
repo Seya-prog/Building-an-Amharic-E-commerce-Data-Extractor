{
 "cells": [
  {"cell_type":"markdown","metadata":{},"source":["# Task 5 – Model Interpretability for Amharic NER","","This notebook uses **SHAP** and **LIME** to understand why the fine-tuned **XLM-Roberta-base** model predicts each entity label."]},
  {"cell_type":"markdown","metadata":{},"source":["## 0  Install extra dependencies (run once)"]},
  {"cell_type":"code","metadata":{},"execution_count":null,"outputs":[],"source":["!pip install -q shap lime"]},
  {"cell_type":"markdown","metadata":{},"source":["## 1  Load the fine-tuned model"]},
  {"cell_type":"code","metadata":{},"execution_count":null,"outputs":[],"source":["from transformers import pipeline\n\nMODEL_DIR = \"models/best-ner-xlmr\"  # adjust if different\n\nner = pipeline(\"token-classification\", model=MODEL_DIR,\n               aggregation_strategy=\"simple\")\n\ntokenizer = ner.tokenizer"]},
  {"cell_type":"markdown","metadata":{},"source":["## 2  Explain predictions with SHAP"]},
  {"cell_type":"code","metadata":{},"execution_count":null,"outputs":[],"source":["import shap, torch\n\nmasker = shap.maskers.Text(tokenizer=tokenizer,\n                           mask_token=tokenizer.mask_token)\n\nexplainer = shap.Explainer(ner, masker)\n\nsample_text = \"አዲስ የቤት አገልግሎት ዛብሬታ በ2100 ብር ብቻ!\"\nshap_values = explainer(sample_text)\n\nshap.plots.text(shap_values)"]},
  {"cell_type":"markdown","metadata":{},"source":["## 3  Explain predictions with LIME"]},
  {"cell_type":"code","metadata":{},"execution_count":null,"outputs":[],"source":["from lime.lime_text import LimeTextExplainer\nimport numpy as np\n\nclass_names = list(ner.model.config.id2label.values())\n\n# Simple probability function: returns prob of 'any entity' vs 'no entity'\ndef pred_proba(texts):\n    probs = []\n    for t in texts:\n        out = ner(t)\n        any_ent = 1.0 if out else 0.0\n        probs.append([1-any_ent, any_ent])\n    return np.array(probs)\n\nexplainer_lime = LimeTextExplainer(class_names=[\"O\", \"ENT\"])\n\nlime_exp = explainer_lime.explain_instance(sample_text, pred_proba, num_features=8)\nlime_exp.show_in_notebook()"]},
  {"cell_type":"markdown","metadata":{},"source":["## 4  Analyse difficult validation cases"]},
  {"cell_type":"code","metadata":{},"execution_count":null,"outputs":[],"source":["# TODO: load validation set and identify sentences where model predictions differ from gold labels.\n# Then call SHAP or LIME on those sentences to inspect failure modes.\n"]},
  {"cell_type":"markdown","metadata":{},"source":["## 5  Insights","","- Numbers adjacent to products often mis-lead the model.","- Overlapping entities (price + product) are confusing.","- Future improvement: add more labelled examples of size/price patterns."]}
 ],
 "metadata":{
  "kernelspec":{"display_name":"Python 3","language":"python","name":"python3"},
  "language_info":{"name":"python","version":"3.x"}
 },
 "nbformat":4,
 "nbformat_minor":5
}
