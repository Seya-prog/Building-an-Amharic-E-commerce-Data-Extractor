{
 "cells": [
  {
   "cell_type": "markdown",
   "metadata": {},
   "source": [
    "# Task 2 – Generate CoNLL Annotation Template\n",
    "\n",
    "This notebook samples messages from the **pre-processed** Telegram dataset and writes a template file (`data/ner/ner_template.conll`) for manual Named-Entity-Recognition labelling.\n",
    "\n",
    "**Instructions for annotators**:\n",
    "1. Each token appears on its own line followed by a placeholder tag `O`.\n",
    "2. Replace `O` with one of: `B-PRODUCT, I-PRODUCT, B-LOC, I-LOC, B-PRICE, I-PRICE`.\n",
    "3. Sentences (messages) are separated by a blank line.\n",
    "4. Save the edited file as `ner_labeled.conll` in the same folder.\n"
   ]
  },
  {
   "cell_type": "code",
   "execution_count": 1,
   "metadata": {},
   "outputs": [],
   "source": [
    "from pathlib import Path\n",
    "from datetime import datetime\n",
    "import random, re, sys\n",
    "import pandas as pd\n",
    "\n",
    "#─ Paths\n",
    "PRE_DIR = Path('../data/preprocessed')\n",
    "NER_DIR = Path('../data/ner'); NER_DIR.mkdir(parents=True, exist_ok=True)\n",
    "\n",
    "#─ Helper – Amharic clean (same as preprocessing)\n",
    "def clean_amharic_text(text: str) -> str:\n",
    "    text = re.sub(r'[\\r\\n]+', ' ', str(text))\n",
    "    text = re.sub(r'[^\\w\\s።፥፣፤፦፧፡፠]', '', text, flags=re.UNICODE)\n",
    "    return re.sub(r'\\s+', ' ', text).strip()\n"
   ]
  },
  {
   "cell_type": "code",
   "execution_count": 2,
   "metadata": {},
   "outputs": [
    {
     "name": "stdout",
     "output_type": "stream",
     "text": [
      "Using file → ..\\data\\preprocessed\\telegram_data_preprocessed_20250625_142643.csv\n"
     ]
    },
    {
     "data": {
      "text/html": [
       "<div>\n",
       "<style scoped>\n",
       "    .dataframe tbody tr th:only-of-type {\n",
       "        vertical-align: middle;\n",
       "    }\n",
       "\n",
       "    .dataframe tbody tr th {\n",
       "        vertical-align: top;\n",
       "    }\n",
       "\n",
       "    .dataframe thead th {\n",
       "        text-align: right;\n",
       "    }\n",
       "</style>\n",
       "<table border=\"1\" class=\"dataframe\">\n",
       "  <thead>\n",
       "    <tr style=\"text-align: right;\">\n",
       "      <th></th>\n",
       "      <th>Channel Title</th>\n",
       "      <th>Channel Username</th>\n",
       "      <th>Message ID</th>\n",
       "      <th>Message</th>\n",
       "      <th>Date</th>\n",
       "      <th>Media Path</th>\n",
       "      <th>Clean Text</th>\n",
       "      <th>entities</th>\n",
       "      <th>Views</th>\n",
       "    </tr>\n",
       "  </thead>\n",
       "  <tbody>\n",
       "    <tr>\n",
       "      <th>0</th>\n",
       "      <td>Shewa Brand</td>\n",
       "      <td>https://t.me/@Shewabrand</td>\n",
       "      <td>3714</td>\n",
       "      <td>የተለያዩ ጫማዎች በፍሬ መምረጥ ማስመረጥ ለምትፈልጉ ደንበኞቻችን አዲስ ነ...</td>\n",
       "      <td>2025-06-22 07:20:07+00:00</td>\n",
       "      <td>photos\\@Shewabrand_3714.jpg</td>\n",
       "      <td>የተለያዩ ጫማዎች በፍሬ መምረጥ ማስመረጥ ለምትፈልጉ ደንበኞቻችን አዲስ ነ...</td>\n",
       "      <td>[{'word': '▁የተለያዩ', 'entity': 'B-Product', 'sc...</td>\n",
       "      <td>1093</td>\n",
       "    </tr>\n",
       "    <tr>\n",
       "      <th>1</th>\n",
       "      <td>Shewa Brand</td>\n",
       "      <td>https://t.me/@Shewabrand</td>\n",
       "      <td>3713</td>\n",
       "      <td>NIKE SB FC original 💯 \\r\\nSize 40#41#42#43#44#...</td>\n",
       "      <td>2025-06-21 09:28:21+00:00</td>\n",
       "      <td>photos\\@Shewabrand_3713.jpg</td>\n",
       "      <td>NIKE SB FC original Size 404142434445 MADE IN ...</td>\n",
       "      <td>[{'word': '▁N', 'entity': 'B-Product', 'score'...</td>\n",
       "      <td>2259</td>\n",
       "    </tr>\n",
       "    <tr>\n",
       "      <th>2</th>\n",
       "      <td>Shewa Brand</td>\n",
       "      <td>https://t.me/@Shewabrand</td>\n",
       "      <td>3712</td>\n",
       "      <td>ORIGINAL COTTON TUTA💯 original \\r\\nSize L#XL#2...</td>\n",
       "      <td>2025-06-21 05:05:45+00:00</td>\n",
       "      <td>photos\\@Shewabrand_3712.jpg</td>\n",
       "      <td>ORIGINAL COTTON TUTA original Size LXL2XL3XL4X...</td>\n",
       "      <td>[{'word': '▁', 'entity': 'B-Product', 'score':...</td>\n",
       "      <td>947</td>\n",
       "    </tr>\n",
       "    <tr>\n",
       "      <th>3</th>\n",
       "      <td>Shewa Brand</td>\n",
       "      <td>https://t.me/@Shewabrand</td>\n",
       "      <td>3711</td>\n",
       "      <td>ZARA CLUB COTTON TISHERTS 💯 original \\r\\nSize ...</td>\n",
       "      <td>2025-06-20 07:57:43+00:00</td>\n",
       "      <td>photos\\@Shewabrand_3711.jpg</td>\n",
       "      <td>ZARA CLUB COTTON TISHERTS original Size MLXLXX...</td>\n",
       "      <td>[{'word': '▁Z', 'entity': 'B-Product', 'score'...</td>\n",
       "      <td>15551</td>\n",
       "    </tr>\n",
       "    <tr>\n",
       "      <th>4</th>\n",
       "      <td>Shewa Brand</td>\n",
       "      <td>https://t.me/@Shewabrand</td>\n",
       "      <td>3710</td>\n",
       "      <td>jordan 1 original 💯 \\r\\nSize 40#41#42#43\\r\\nMA...</td>\n",
       "      <td>2025-06-20 06:15:40+00:00</td>\n",
       "      <td>photos\\@Shewabrand_3710.jpg</td>\n",
       "      <td>jordan 1 original Size 40414243 MADE IN VIETNA...</td>\n",
       "      <td>[{'word': '▁jord', 'entity': 'B-Product', 'sco...</td>\n",
       "      <td>7584</td>\n",
       "    </tr>\n",
       "  </tbody>\n",
       "</table>\n",
       "</div>"
      ],
      "text/plain": [
       "  Channel Title          Channel Username  Message ID  \\\n",
       "0   Shewa Brand  https://t.me/@Shewabrand        3714   \n",
       "1   Shewa Brand  https://t.me/@Shewabrand        3713   \n",
       "2   Shewa Brand  https://t.me/@Shewabrand        3712   \n",
       "3   Shewa Brand  https://t.me/@Shewabrand        3711   \n",
       "4   Shewa Brand  https://t.me/@Shewabrand        3710   \n",
       "\n",
       "                                             Message  \\\n",
       "0  የተለያዩ ጫማዎች በፍሬ መምረጥ ማስመረጥ ለምትፈልጉ ደንበኞቻችን አዲስ ነ...   \n",
       "1  NIKE SB FC original 💯 \\r\\nSize 40#41#42#43#44#...   \n",
       "2  ORIGINAL COTTON TUTA💯 original \\r\\nSize L#XL#2...   \n",
       "3  ZARA CLUB COTTON TISHERTS 💯 original \\r\\nSize ...   \n",
       "4  jordan 1 original 💯 \\r\\nSize 40#41#42#43\\r\\nMA...   \n",
       "\n",
       "                        Date                   Media Path  \\\n",
       "0  2025-06-22 07:20:07+00:00  photos\\@Shewabrand_3714.jpg   \n",
       "1  2025-06-21 09:28:21+00:00  photos\\@Shewabrand_3713.jpg   \n",
       "2  2025-06-21 05:05:45+00:00  photos\\@Shewabrand_3712.jpg   \n",
       "3  2025-06-20 07:57:43+00:00  photos\\@Shewabrand_3711.jpg   \n",
       "4  2025-06-20 06:15:40+00:00  photos\\@Shewabrand_3710.jpg   \n",
       "\n",
       "                                          Clean Text  \\\n",
       "0  የተለያዩ ጫማዎች በፍሬ መምረጥ ማስመረጥ ለምትፈልጉ ደንበኞቻችን አዲስ ነ...   \n",
       "1  NIKE SB FC original Size 404142434445 MADE IN ...   \n",
       "2  ORIGINAL COTTON TUTA original Size LXL2XL3XL4X...   \n",
       "3  ZARA CLUB COTTON TISHERTS original Size MLXLXX...   \n",
       "4  jordan 1 original Size 40414243 MADE IN VIETNA...   \n",
       "\n",
       "                                            entities  Views  \n",
       "0  [{'word': '▁የተለያዩ', 'entity': 'B-Product', 'sc...   1093  \n",
       "1  [{'word': '▁N', 'entity': 'B-Product', 'score'...   2259  \n",
       "2  [{'word': '▁', 'entity': 'B-Product', 'score':...    947  \n",
       "3  [{'word': '▁Z', 'entity': 'B-Product', 'score'...  15551  \n",
       "4  [{'word': '▁jord', 'entity': 'B-Product', 'sco...   7584  "
      ]
     },
     "execution_count": 2,
     "metadata": {},
     "output_type": "execute_result"
    }
   ],
   "source": [
    "#─ Locate latest pre-processed CSV\n",
    "csv_files = list(PRE_DIR.glob('telegram_data_preprocessed_*.csv')) or list(PRE_DIR.glob('telegram_data_*.csv'))\n",
    "if not csv_files:\n",
    "    sys.exit('No pre-processed CSV found – run preprocessing notebook first.')\n",
    "latest = max(csv_files, key=lambda p: p.stat().st_mtime)\n",
    "print('Using file →', latest)\n",
    "df = pd.read_csv(latest, encoding='utf-8-sig')\n",
    "df.head()\n"
   ]
  },
  {
   "cell_type": "code",
   "execution_count": 3,
   "metadata": {},
   "outputs": [
    {
     "name": "stdout",
     "output_type": "stream",
     "text": [
      "Sampled 50 messages.\n"
     ]
    }
   ],
   "source": [
    "#─ Sampling messages\n",
    "SAMPLE_SIZE = 50   # adjust if needed\n",
    "messages = df['Clean Text'] if 'Clean Text' in df.columns else df['Message']\n",
    "messages = messages.dropna().tolist()\n",
    "sample = random.sample(messages, k=min(SAMPLE_SIZE, len(messages)))\n",
    "print(f'Sampled {len(sample)} messages.')\n"
   ]
  },
  {
   "cell_type": "code",
   "execution_count": 5,
   "id": "031df2ec",
   "metadata": {},
   "outputs": [
    {
     "name": "stdout",
     "output_type": "stream",
     "text": [
      "Template written → ..\\data\\ner\\ner_template.conll\n"
     ]
    }
   ],
   "source": [
    "#─ Write CoNLL template\n",
    "out_path = NER_DIR / 'ner_template.conll'\n",
    "with out_path.open('w', encoding='utf-8') as f:\n",
    "    for msg in sample:\n",
    "        for tok in msg.split():\n",
    "            if tok.strip():\n",
    "                f.write(f'{tok}\tO\\n')\n",
    "        f.write('\\n')  # sentence separator\n",
    "\n",
    "print('Template written →', out_path)\n"
   ]
  }
 ],
 "metadata": {
  "kernelspec": {
   "display_name": ".venv",
   "language": "python",
   "name": "python3"
  },
  "language_info": {
   "codemirror_mode": {
    "name": "ipython",
    "version": 3
   },
   "file_extension": ".py",
   "mimetype": "text/x-python",
   "name": "python",
   "nbconvert_exporter": "python",
   "pygments_lexer": "ipython3",
   "version": "3.13.2"
  }
 },
 "nbformat": 4,
 "nbformat_minor": 5
}
