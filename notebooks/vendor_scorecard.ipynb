{
 "cells": [
  {"cell_type":"markdown","metadata":{},"source":["# Task 6 – Vendor Scorecard for Micro-Lending","","This notebook combines NER outputs with Telegram post metadata to compute engagement and business metrics for each vendor channel, culminating in a simple **Lending Score**."]},
  {"cell_type":"markdown","metadata":{},"source":["## 0  Setup"]},
  {"cell_type":"code","metadata":{},"execution_count":null,"outputs":[],"source":["!pip install -q pandas tqdm" ]},
  {"cell_type":"code","metadata":{},"execution_count":null,"outputs":[],"source":["import pandas as pd, numpy as np, datetime as dt\nfrom pathlib import Path\nfrom transformers import pipeline\nfrom tqdm.auto import tqdm\n\nDATA_PATH = Path('data/raw/telegram_data.csv')   # adjust if needed\nMODEL_DIR = 'models/best-ner-xlmr'\nOUTPUT_CSV = 'data/preprocessed/vendor_metrics.csv'\n"]},
  {"cell_type":"markdown","metadata":{},"source":["## 1  Load data"]},
  {"cell_type":"code","metadata":{},"execution_count":null,"outputs":[],"source":["df = pd.read_csv(DATA_PATH, parse_dates=['date'])\nprint('Posts:', len(df))\n"]},
  {"cell_type":"markdown","metadata":{},"source":["## 2  Run NER on post texts (cached)"]},
  {"cell_type":"code","metadata":{},"execution_count":null,"outputs":[],"source":["ner = pipeline('token-classification', model=MODEL_DIR, aggregation_strategy='simple')\n\nif 'entities' not in df.columns:\n    ents = []\n    for text in tqdm(df['text'].fillna('').tolist(), desc='NER'):\n        ents.append(ner(text))\n    df['entities'] = ents\n    df.to_csv(DATA_PATH, index=False)   # persist cache\n"]},
  {"cell_type":"markdown","metadata":{},"source":["## 3  Helper functions"]},
  {"cell_type":"code","metadata":{},"execution_count":null,"outputs":[],"source":["def extract_prices(entities):\n    # Return list of numeric ETB prices extracted by NER\n    prices = []\n    for ent in entities:\n        if ent['entity_group'] == 'Price':\n            token = ent['word'].replace(',', '')\n            digits = ''.join(ch for ch in token if ch.isdigit())\n            if digits: prices.append(int(digits))\n    return prices\n"]},
  {"cell_type":"markdown","metadata":{},"source":["## 4  Compute per-vendor metrics"]},
  {"cell_type":"code","metadata":{},"execution_count":null,"outputs":[],"source":["def weekly_freq(dates):\n    if len(dates) < 2: return len(dates)\n    span_days = (dates.max() - dates.min()).days or 1\n    return len(dates) / (span_days/7)\n\nrows = []\nfor chan, sub in df.groupby('channel_title'):\n    views = sub.get('views') if 'views' in sub.columns else None\n    avg_views = views.mean() if views is not None else np.nan\n    top_post = sub.loc[views.idxmax()] if views is not None else None\n    prices = sub['entities'].apply(extract_prices)\n    all_prices = [p for lst in prices for p in lst]\n    avg_price = np.mean(all_prices) if all_prices else np.nan\n    freq = weekly_freq(sub['date'])\n\n    # simple lending score (0-100)
    score = 0
    if not np.isnan(avg_views): score += 0.5 * min(avg_views/1000, 1)*100
    score += 0.5 * min(freq/50, 1)*100
    rows.append({
        'vendor': chan,
        'posts': len(sub),
        'posts_per_week': round(freq,1),
        'avg_views': round(avg_views,1) if not np.isnan(avg_views) else None,
        'avg_price_etb': round(avg_price,1) if not np.isnan(avg_price) else None,
        'lending_score': round(score,1)
    })\n\nmetrics = pd.DataFrame(rows).sort_values('lending_score', ascending=False)\nmetrics.to_csv(OUTPUT_CSV, index=False)\nmetrics.head()"]},
  {"cell_type":"markdown","metadata":{},"source":["## 5  Results"]},
  {"cell_type":"code","metadata":{},"execution_count":null,"outputs":[],"source":["import matplotlib.pyplot as plt\nmetrics.plot.bar(x='vendor', y='lending_score', figsize=(10,4))\nplt.ylabel('Lending Score')\nplt.title('Top Vendors by Lending Score')\nplt.tight_layout()"]},
  {"cell_type":"markdown","metadata":{},"source":["You can now export `vendor_metrics.csv` or the bar-chart for stakeholders."]}
 ],
 "metadata":{
  "kernelspec":{"display_name":"Python 3","language":"python","name":"python3"},
  "language_info":{"name":"python","version":"3.x"}
 },
 "nbformat":4,
 "nbformat_minor":5
}
